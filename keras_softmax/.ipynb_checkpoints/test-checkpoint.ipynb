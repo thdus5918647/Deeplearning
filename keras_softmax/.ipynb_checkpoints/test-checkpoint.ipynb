{
 "cells": [
  {
   "cell_type": "code",
   "execution_count": 1,
   "metadata": {
    "scrolled": true
   },
   "outputs": [
    {
     "name": "stdout",
     "output_type": "stream",
     "text": [
      "7200\n",
      "    constraint    mobility capability context  y\n",
      "0  BEST_EFFORT  STATIONARY        LOW    TEXT  1\n",
      "1        DELAY  STATIONARY        LOW    TEXT  1\n",
      "2  RELIABILITY  STATIONARY        LOW    TEXT  1\n",
      "3  BEST_EFFORT  STATIONARY     MEDIUM    TEXT  3\n",
      "4        DELAY  STATIONARY     MEDIUM    TEXT  1\n",
      "상태:\n",
      "[1 3 2 4]\n"
     ]
    }
   ],
   "source": [
    "import pandas as pd\n",
    "import seaborn as sns\n",
    "\n",
    "data = pd.read_csv('data.csv', encoding='latin1')\n",
    "\n",
    "print(len(data))\n",
    "print(data[:5])\n",
    "print(\"상태:\",data[\"y\"].unique(),sep=\"\\n\")"
   ]
  },
  {
   "cell_type": "markdown",
   "metadata": {},
   "source": [
    "#### 데이터 분리"
   ]
  },
  {
   "cell_type": "code",
   "execution_count": 3,
   "metadata": {},
   "outputs": [
    {
     "name": "stdout",
     "output_type": "stream",
     "text": [
      "[['BEST_EFFORT' 'STATIONARY' 'LOW' 'TEXT']\n",
      " ['DELAY' 'STATIONARY' 'LOW' 'TEXT']\n",
      " ['RELIABILITY' 'STATIONARY' 'LOW' 'TEXT']\n",
      " ['BEST_EFFORT' 'STATIONARY' 'MEDIUM' 'TEXT']\n",
      " ['DELAY' 'STATIONARY' 'MEDIUM' 'TEXT']]\n",
      "[1 1 1 3 1]\n"
     ]
    }
   ],
   "source": [
    "from sklearn.model_selection import train_test_split\n",
    "data_X = data[['constraint','mobility','capability','context']].values\n",
    "data_y = data['y'].values\n",
    "\n",
    "print(data_X[:5])\n",
    "print(data_y[:5])"
   ]
  },
  {
   "cell_type": "markdown",
   "metadata": {},
   "source": [
    "#### 학습 데이터와 테스트 데이터의 분리와 원-핫 인코딩"
   ]
  },
  {
   "cell_type": "code",
   "execution_count": 4,
   "metadata": {},
   "outputs": [
    {
     "name": "stdout",
     "output_type": "stream",
     "text": [
      "[[0. 1. 0. 0. 0.]\n",
      " [0. 0. 0. 0. 1.]\n",
      " [0. 0. 0. 1. 0.]\n",
      " [0. 0. 1. 0. 0.]\n",
      " [0. 1. 0. 0. 0.]]\n",
      "[[0. 0. 0. 1. 0.]\n",
      " [0. 0. 0. 1. 0.]\n",
      " [0. 0. 0. 1. 0.]\n",
      " [0. 0. 0. 1. 0.]\n",
      " [0. 0. 0. 0. 1.]]\n"
     ]
    }
   ],
   "source": [
    "# 학습 데이터와 테스트 데이터를 8:2로 나누고, 데이터의 순서 또한 섞음\n",
    "(X_train, X_test, y_train, y_test) = train_test_split(data_X, data_y, train_size=0.8, random_state = 1)\n",
    "\n",
    "# 학습 데이터와 테스트 데이터에 대해 원-핫 인코딩\n",
    "from tensorflow.keras.utils import to_categorical\n",
    "y_train = to_categorical(y_train)\n",
    "y_test = to_categorical(y_test)\n",
    "\n",
    "print(y_train[:5])\n",
    "print(y_test[:5])"
   ]
  },
  {
   "cell_type": "markdown",
   "metadata": {},
   "source": [
    "#### 소프트맥스 회귀"
   ]
  },
  {
   "cell_type": "code",
   "execution_count": null,
   "metadata": {},
   "outputs": [],
   "source": [
    "from tensorflow.keras.models import Sequential # 케라스의 Sequential()을 임포트\n",
    "from tensorflow.keras.layers import Dense # 케라스의 Dense()를 임포트\n",
    "from tensorflow.keras import optimizers # 케라스의 옵티마이저를 임포트\n",
    "\n",
    "model = Sequential()\n",
    "model.add(Dense(5, input_dim=4, activation='softmax'))\n",
    "sgd = optimizers.SGD(lr=0.01) # 학습률(learning rate, lr)은 0.01로 지정\n",
    "# 옵티마이저는 경사하강법의 일종인 adam 사용\n",
    "# 손실 함수(Loss function)는 크로스 엔트로피 함수 사용\n",
    "model.compile(loss = 'categorical_crossentropy', optimizer='adam',metrics=['accuracy'])\n",
    "# 주어진 X와 y데이터에 대해서 오차를 최소화하는 작업을 200번 시도\n",
    "history=model.fit(X_train,y_train, batch_size=1, epochs=500, validation_data=(X_test, y_test))\n"
   ]
  },
  {
   "cell_type": "code",
   "execution_count": null,
   "metadata": {},
   "outputs": [],
   "source": []
  }
 ],
 "metadata": {
  "kernelspec": {
   "display_name": "Python 3",
   "language": "python",
   "name": "python3"
  },
  "language_info": {
   "codemirror_mode": {
    "name": "ipython",
    "version": 3
   },
   "file_extension": ".py",
   "mimetype": "text/x-python",
   "name": "python",
   "nbconvert_exporter": "python",
   "pygments_lexer": "ipython3",
   "version": "3.5.2"
  }
 },
 "nbformat": 4,
 "nbformat_minor": 2
}
