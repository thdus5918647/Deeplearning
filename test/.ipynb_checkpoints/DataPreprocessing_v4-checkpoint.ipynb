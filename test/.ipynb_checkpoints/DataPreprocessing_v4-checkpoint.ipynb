{
 "cells": [
  {
   "cell_type": "code",
   "execution_count": 9,
   "metadata": {},
   "outputs": [
    {
     "name": "stdout",
     "output_type": "stream",
     "text": [
      "65536\n",
      "65536\n",
      "<class 'list'>\n",
      "Index(['hz', 'ampliture'], dtype='object')\n"
     ]
    }
   ],
   "source": [
    "import pandas as pd\n",
    "import random\n",
    "import numpy as np\n",
    "\n",
    "# basic\n",
    "path_file = pd.read_csv('./basic.csv')\n",
    "\n",
    "hz = path_file['hz'].values\n",
    "amp = path_file['ampliture'].values\n",
    "\n",
    "hz = hz.tolist()\n",
    "amp = amp.tolist()\n",
    "\n",
    "#print(hz)\n",
    "#print(amp)\n",
    "print(len(hz))\n",
    "print(len(amp))\n",
    "print(type(hz))\n",
    "print(path_file.columns)"
   ]
  },
  {
   "cell_type": "code",
   "execution_count": 10,
   "metadata": {},
   "outputs": [],
   "source": [
    "hz_result = np.array([])\n",
    "#hz_result = []\n",
    "value = 0\n",
    "\n",
    "for i in range(0, len(hz)):\n",
    "    if i % 50 < 5:\n",
    "        value += hz[i]\n",
    "        \n",
    "        if i % 50 == 4:\n",
    "            hz_result = np.append(hz_result,value)\n",
    "            value = 0\n",
    "\n",
    "amp_result = np.array([])\n",
    "#amp_result = []\n",
    "value = 0\n",
    "\n",
    "for i in range(0, len(amp)):\n",
    "    if i % 50 < 5:\n",
    "        value += amp[i]\n",
    "        \n",
    "        if i % 50 == 4:\n",
    "            amp_result = np.append(amp_result,value)\n",
    "            value = 0"
   ]
  },
  {
   "cell_type": "code",
   "execution_count": 11,
   "metadata": {},
   "outputs": [],
   "source": [
    "basic_result = np.column_stack([hz_result, amp_result])"
   ]
  },
  {
   "cell_type": "code",
   "execution_count": 12,
   "metadata": {},
   "outputs": [
    {
     "data": {
      "text/plain": [
       "array([[1.14440918e+00, 6.89693737e+03],\n",
       "       [2.97546387e+01, 1.67580798e+02],\n",
       "       [5.83648682e+01, 3.47535286e+01],\n",
       "       ...,\n",
       "       [3.74233246e+04, 3.54305601e+00],\n",
       "       [3.74519348e+04, 2.00301068e+00],\n",
       "       [3.74805450e+04, 1.06331514e+00]])"
      ]
     },
     "execution_count": 12,
     "metadata": {},
     "output_type": "execute_result"
    }
   ],
   "source": [
    "basic_result"
   ]
  },
  {
   "cell_type": "code",
   "execution_count": 31,
   "metadata": {},
   "outputs": [
    {
     "name": "stdout",
     "output_type": "stream",
     "text": [
      "1311\n"
     ]
    }
   ],
   "source": [
    "print(len(basic_result))"
   ]
  },
  {
   "cell_type": "code",
   "execution_count": 32,
   "metadata": {},
   "outputs": [
    {
     "data": {
      "text/plain": [
       "1.144409179688"
      ]
     },
     "execution_count": 32,
     "metadata": {},
     "output_type": "execute_result"
    }
   ],
   "source": [
    "basic_result[0][0]"
   ]
  },
  {
   "cell_type": "code",
   "execution_count": 33,
   "metadata": {},
   "outputs": [
    {
     "data": {
      "text/plain": [
       "6896.9373696"
      ]
     },
     "execution_count": 33,
     "metadata": {},
     "output_type": "execute_result"
    }
   ],
   "source": [
    "basic_result[0][1]"
   ]
  },
  {
   "cell_type": "code",
   "execution_count": null,
   "metadata": {},
   "outputs": [],
   "source": []
  }
 ],
 "metadata": {
  "kernelspec": {
   "display_name": "Python 3",
   "language": "python",
   "name": "python3"
  },
  "language_info": {
   "codemirror_mode": {
    "name": "ipython",
    "version": 3
   },
   "file_extension": ".py",
   "mimetype": "text/x-python",
   "name": "python",
   "nbconvert_exporter": "python",
   "pygments_lexer": "ipython3",
   "version": "3.7.0"
  }
 },
 "nbformat": 4,
 "nbformat_minor": 4
}
