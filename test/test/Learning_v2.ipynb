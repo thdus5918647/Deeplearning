{
 "cells": [
  {
   "cell_type": "code",
   "execution_count": 2,
   "metadata": {},
   "outputs": [],
   "source": [
    "import pandas as pd\n",
    "\n",
    "data = pd.read_csv('data_v2.csv', encoding='latin1')"
   ]
  },
  {
   "cell_type": "code",
   "execution_count": null,
   "metadata": {},
   "outputs": [],
   "source": [
    "print(data)\n",
    "data.head()"
   ]
  },
  {
   "cell_type": "code",
   "execution_count": 4,
   "metadata": {},
   "outputs": [
    {
     "data": {
      "text/html": [
       "<div>\n",
       "<style scoped>\n",
       "    .dataframe tbody tr th:only-of-type {\n",
       "        vertical-align: middle;\n",
       "    }\n",
       "\n",
       "    .dataframe tbody tr th {\n",
       "        vertical-align: top;\n",
       "    }\n",
       "\n",
       "    .dataframe thead th {\n",
       "        text-align: right;\n",
       "    }\n",
       "</style>\n",
       "<table border=\"1\" class=\"dataframe\">\n",
       "  <thead>\n",
       "    <tr style=\"text-align: right;\">\n",
       "      <th></th>\n",
       "      <th>hz</th>\n",
       "      <th>ampliture</th>\n",
       "      <th>y</th>\n",
       "    </tr>\n",
       "  </thead>\n",
       "  <tbody>\n",
       "    <tr>\n",
       "      <th>262139</th>\n",
       "      <td>7499.427795</td>\n",
       "      <td>5.301734</td>\n",
       "      <td>3</td>\n",
       "    </tr>\n",
       "    <tr>\n",
       "      <th>262140</th>\n",
       "      <td>7499.542236</td>\n",
       "      <td>6.235771</td>\n",
       "      <td>3</td>\n",
       "    </tr>\n",
       "    <tr>\n",
       "      <th>262141</th>\n",
       "      <td>7499.656677</td>\n",
       "      <td>6.966210</td>\n",
       "      <td>3</td>\n",
       "    </tr>\n",
       "    <tr>\n",
       "      <th>262142</th>\n",
       "      <td>7499.771118</td>\n",
       "      <td>4.212205</td>\n",
       "      <td>3</td>\n",
       "    </tr>\n",
       "    <tr>\n",
       "      <th>262143</th>\n",
       "      <td>7499.885559</td>\n",
       "      <td>8.278224</td>\n",
       "      <td>3</td>\n",
       "    </tr>\n",
       "  </tbody>\n",
       "</table>\n",
       "</div>"
      ],
      "text/plain": [
       "                 hz  ampliture  y\n",
       "262139  7499.427795   5.301734  3\n",
       "262140  7499.542236   6.235771  3\n",
       "262141  7499.656677   6.966210  3\n",
       "262142  7499.771118   4.212205  3\n",
       "262143  7499.885559   8.278224  3"
      ]
     },
     "execution_count": 4,
     "metadata": {},
     "output_type": "execute_result"
    }
   ],
   "source": [
    "data.tail()"
   ]
  },
  {
   "cell_type": "code",
   "execution_count": 5,
   "metadata": {},
   "outputs": [],
   "source": [
    "import seaborn as sns\n",
    "\n",
    "sns.set(style='ticks', color_codes=True)\n",
    "g = sns.pairplot(data, hue='y', palette='husl')"
   ]
  },
  {
   "cell_type": "code",
   "execution_count": 6,
   "metadata": {},
   "outputs": [
    {
     "data": {
      "text/plain": [
       "<matplotlib.axes._subplots.AxesSubplot at 0x7f0ac5d5b588>"
      ]
     },
     "execution_count": 6,
     "metadata": {},
     "output_type": "execute_result"
    },
    {
     "data": {
      "image/png": "[encoded data removed]",
      "text/plain": [
       "<Figure size 432x288 with 1 Axes>"
      ]
     },
     "metadata": {
      "needs_background": "light"
     },
     "output_type": "display_data"
    }
   ],
   "source": [
    "sns.barplot(data['y'], data['hz'], ci=None)"
   ]
  },
  {
   "cell_type": "code",
   "execution_count": 7,
   "metadata": {},
   "outputs": [
    {
     "data": {
      "text/plain": [
       "<matplotlib.axes._subplots.AxesSubplot at 0x7f0ac5d32f28>"
      ]
     },
     "execution_count": 7,
     "metadata": {},
     "output_type": "execute_result"
    },
    {
     "data": {
      "image/png": "[encoded data removed]",
      "text/plain": [
       "<Figure size 432x288 with 1 Axes>"
      ]
     },
     "metadata": {
      "needs_background": "light"
     },
     "output_type": "display_data"
    }
   ],
   "source": [
    "sns.barplot(data['y'], data['ampliture'], ci=None)"
   ]
  },
  {
   "cell_type": "code",
   "execution_count": 8,
   "metadata": {},
   "outputs": [
    {
     "data": {
      "text/plain": [
       "<matplotlib.axes._subplots.AxesSubplot at 0x7f0ac5cd7518>"
      ]
     },
     "execution_count": 8,
     "metadata": {},
     "output_type": "execute_result"
    },
    {
     "data": {
      "image/png": "[encoded data removed]",
      "text/plain": [
       "<Figure size 432x288 with 1 Axes>"
      ]
     },
     "metadata": {
      "needs_background": "light"
     },
     "output_type": "display_data"
    }
   ],
   "source": [
    "import matplotlib.pyplot as plt\n",
    "\n",
    "data['y'].value_counts().plot(kind='bar')"
   ]
  },
  {
   "cell_type": "code",
   "execution_count": 9,
   "metadata": {},
   "outputs": [
    {
     "name": "stdout",
     "output_type": "stream",
     "text": [
      "[[0.00000000e+00 5.84564430e+03]\n",
      " [1.14440918e-01 2.68892458e+02]\n",
      " [2.28881836e-01 2.59570802e+02]\n",
      " [3.43322754e-01 2.55457923e+02]\n",
      " [4.57763672e-01 2.67371884e+02]]\n",
      "[0 0 0 0 0]\n"
     ]
    }
   ],
   "source": [
    "from sklearn.model_selection import train_test_split\n",
    "\n",
    "data_X = data[['hz', 'ampliture']].values\n",
    "data_y = data['y'].values\n",
    "\n",
    "print(data_X[:5])\n",
    "print(data_y[:5])"
   ]
  },
  {
   "cell_type": "code",
   "execution_count": 10,
   "metadata": {},
   "outputs": [],
   "source": [
    "(X_train, X_test, y_train, y_test) = train_test_split(data_X, data_y, train_size=0.8, random_state=1)"
   ]
  },
  {
   "cell_type": "code",
   "execution_count": 44,
   "metadata": {},
   "outputs": [
    {
     "name": "stdout",
     "output_type": "stream",
     "text": [
      "Model: \"sequential_16\"\n",
      "_________________________________________________________________\n",
      "Layer (type)                 Output Shape              Param #   \n",
      "=================================================================\n",
      "dense_100 (Dense)            (None, 24)                72        \n",
      "_________________________________________________________________\n",
      "dense_101 (Dense)            (None, 48)                1200      \n",
      "_________________________________________________________________\n",
      "dense_102 (Dense)            (None, 64)                3136      \n",
      "_________________________________________________________________\n",
      "dense_103 (Dense)            (None, 128)               8320      \n",
      "_________________________________________________________________\n",
      "dense_104 (Dense)            (None, 128)               16512     \n",
      "_________________________________________________________________\n",
      "dense_105 (Dense)            (None, 64)                8256      \n",
      "_________________________________________________________________\n",
      "dense_106 (Dense)            (None, 48)                3120      \n",
      "_________________________________________________________________\n",
      "dense_107 (Dense)            (None, 24)                1176      \n",
      "_________________________________________________________________\n",
      "dense_108 (Dense)            (None, 4)                 100       \n",
      "=================================================================\n",
      "Total params: 41,892\n",
      "Trainable params: 41,892\n",
      "Non-trainable params: 0\n",
      "_________________________________________________________________\n",
      "Train on 209715 samples, validate on 52429 samples\n",
      "Epoch 1/50\n",
      "209715/209715 [==============================] - 7s 34us/sample - loss: 1.9651 - accuracy: 0.2943 - val_loss: 1.2932 - val_accuracy: 0.3087\n",
      "Epoch 2/50\n",
      "209715/209715 [==============================] - 7s 32us/sample - loss: 1.2810 - accuracy: 0.3856 - val_loss: 1.1624 - val_accuracy: 0.4323\n",
      "Epoch 3/50\n",
      "209715/209715 [==============================] - 7s 32us/sample - loss: 1.1774 - accuracy: 0.4353 - val_loss: 1.1337 - val_accuracy: 0.4555\n",
      "Epoch 4/50\n",
      "209715/209715 [==============================] - 7s 32us/sample - loss: 1.1384 - accuracy: 0.4550 - val_loss: 1.1840 - val_accuracy: 0.4462\n",
      "Epoch 5/50\n",
      "209715/209715 [==============================] - 7s 32us/sample - loss: 1.1043 - accuracy: 0.4712 - val_loss: 1.2026 - val_accuracy: 0.4413\n",
      "Epoch 6/50\n",
      "209715/209715 [==============================] - 7s 32us/sample - loss: 1.0838 - accuracy: 0.4806 - val_loss: 1.0348 - val_accuracy: 0.5102\n",
      "Epoch 7/50\n",
      "209715/209715 [==============================] - 7s 32us/sample - loss: 1.0627 - accuracy: 0.4968 - val_loss: 1.0970 - val_accuracy: 0.4828\n",
      "Epoch 8/50\n",
      "209715/209715 [==============================] - 7s 31us/sample - loss: 1.0508 - accuracy: 0.5023 - val_loss: 1.1047 - val_accuracy: 0.4779\n",
      "Epoch 9/50\n",
      "209715/209715 [==============================] - 7s 32us/sample - loss: 1.0393 - accuracy: 0.5083 - val_loss: 1.0556 - val_accuracy: 0.5004\n",
      "Epoch 10/50\n",
      "209715/209715 [==============================] - 7s 32us/sample - loss: 1.0369 - accuracy: 0.5105 - val_loss: 1.0608 - val_accuracy: 0.4872\n",
      "Epoch 11/50\n",
      "209715/209715 [==============================] - 7s 32us/sample - loss: 1.0264 - accuracy: 0.5143 - val_loss: 1.1050 - val_accuracy: 0.4913\n",
      "Epoch 12/50\n",
      "209715/209715 [==============================] - 7s 32us/sample - loss: 1.0260 - accuracy: 0.5136 - val_loss: 1.0069 - val_accuracy: 0.5177\n",
      "Epoch 13/50\n",
      "209715/209715 [==============================] - 7s 32us/sample - loss: 1.0275 - accuracy: 0.5143 - val_loss: 1.0062 - val_accuracy: 0.5194\n",
      "Epoch 14/50\n",
      "209715/209715 [==============================] - 7s 31us/sample - loss: 1.0167 - accuracy: 0.5188 - val_loss: 1.0002 - val_accuracy: 0.5260\n",
      "Epoch 15/50\n",
      "209715/209715 [==============================] - 7s 32us/sample - loss: 1.0142 - accuracy: 0.5196 - val_loss: 1.0066 - val_accuracy: 0.5251\n",
      "Epoch 16/50\n",
      "209715/209715 [==============================] - 7s 32us/sample - loss: 1.0096 - accuracy: 0.5218 - val_loss: 1.0048 - val_accuracy: 0.5214\n",
      "Epoch 17/50\n",
      "209715/209715 [==============================] - 7s 32us/sample - loss: 1.0095 - accuracy: 0.5209 - val_loss: 1.0378 - val_accuracy: 0.5105\n",
      "Epoch 18/50\n",
      "209715/209715 [==============================] - 7s 32us/sample - loss: 1.0104 - accuracy: 0.5211 - val_loss: 1.0024 - val_accuracy: 0.5221\n",
      "Epoch 19/50\n",
      "209715/209715 [==============================] - 7s 32us/sample - loss: 1.0065 - accuracy: 0.5239 - val_loss: 1.0114 - val_accuracy: 0.5164\n",
      "Epoch 20/50\n",
      "209715/209715 [==============================] - 7s 32us/sample - loss: 1.0052 - accuracy: 0.5242 - val_loss: 0.9967 - val_accuracy: 0.5273\n",
      "Epoch 21/50\n",
      "209715/209715 [==============================] - 7s 32us/sample - loss: 1.0057 - accuracy: 0.5239 - val_loss: 0.9974 - val_accuracy: 0.5278\n",
      "Epoch 22/50\n",
      "209715/209715 [==============================] - 7s 32us/sample - loss: 1.0036 - accuracy: 0.5256 - val_loss: 1.0133 - val_accuracy: 0.5234\n",
      "Epoch 23/50\n",
      "209715/209715 [==============================] - 7s 32us/sample - loss: 1.0006 - accuracy: 0.5248 - val_loss: 0.9900 - val_accuracy: 0.5241\n",
      "Epoch 24/50\n",
      "209715/209715 [==============================] - 7s 31us/sample - loss: 0.9999 - accuracy: 0.5261 - val_loss: 0.9909 - val_accuracy: 0.5316\n",
      "Epoch 25/50\n",
      "209715/209715 [==============================] - 7s 32us/sample - loss: 1.0000 - accuracy: 0.5251 - val_loss: 0.9894 - val_accuracy: 0.5298\n",
      "Epoch 26/50\n",
      "209715/209715 [==============================] - 7s 32us/sample - loss: 1.0004 - accuracy: 0.5264 - val_loss: 1.0073 - val_accuracy: 0.5198\n",
      "Epoch 27/50\n",
      "209715/209715 [==============================] - 7s 32us/sample - loss: 0.9979 - accuracy: 0.5264 - val_loss: 0.9892 - val_accuracy: 0.5226\n",
      "Epoch 28/50\n",
      "209715/209715 [==============================] - 7s 32us/sample - loss: 0.9971 - accuracy: 0.5265 - val_loss: 0.9872 - val_accuracy: 0.5313\n",
      "Epoch 29/50\n",
      "209715/209715 [==============================] - 7s 31us/sample - loss: 0.9983 - accuracy: 0.5271 - val_loss: 0.9947 - val_accuracy: 0.5319\n",
      "Epoch 30/50\n",
      "209715/209715 [==============================] - 7s 32us/sample - loss: 0.9960 - accuracy: 0.5290 - val_loss: 1.0071 - val_accuracy: 0.5236\n",
      "Epoch 31/50\n",
      "209715/209715 [==============================] - 7s 32us/sample - loss: 0.9937 - accuracy: 0.5286 - val_loss: 1.0116 - val_accuracy: 0.5177\n",
      "Epoch 32/50\n",
      "209715/209715 [==============================] - 7s 31us/sample - loss: 0.9946 - accuracy: 0.5287 - val_loss: 0.9809 - val_accuracy: 0.5306\n",
      "Epoch 33/50\n",
      "209715/209715 [==============================] - 7s 31us/sample - loss: 0.9936 - accuracy: 0.5291 - val_loss: 0.9811 - val_accuracy: 0.5351\n",
      "Epoch 34/50\n",
      "209715/209715 [==============================] - 7s 31us/sample - loss: 0.9929 - accuracy: 0.5292 - val_loss: 1.0141 - val_accuracy: 0.5207\n",
      "Epoch 35/50\n",
      "209715/209715 [==============================] - 7s 32us/sample - loss: 0.9923 - accuracy: 0.5293 - val_loss: 0.9788 - val_accuracy: 0.5330\n",
      "Epoch 36/50\n",
      "209715/209715 [==============================] - 7s 31us/sample - loss: 0.9930 - accuracy: 0.5297 - val_loss: 0.9784 - val_accuracy: 0.5347\n",
      "Epoch 37/50\n",
      "209715/209715 [==============================] - 7s 32us/sample - loss: 0.9916 - accuracy: 0.5285 - val_loss: 0.9808 - val_accuracy: 0.5330\n",
      "Epoch 38/50\n",
      "209715/209715 [==============================] - 7s 32us/sample - loss: 0.9899 - accuracy: 0.5314 - val_loss: 1.0096 - val_accuracy: 0.5229\n",
      "Epoch 39/50\n",
      "209715/209715 [==============================] - 7s 32us/sample - loss: 0.9886 - accuracy: 0.5307 - val_loss: 0.9938 - val_accuracy: 0.5282\n",
      "Epoch 40/50\n",
      "209715/209715 [==============================] - 7s 32us/sample - loss: 0.9909 - accuracy: 0.5301 - val_loss: 0.9766 - val_accuracy: 0.5358\n",
      "Epoch 41/50\n",
      "209715/209715 [==============================] - 7s 32us/sample - loss: 0.9895 - accuracy: 0.5314 - val_loss: 1.0038 - val_accuracy: 0.5249\n",
      "Epoch 42/50\n",
      "209715/209715 [==============================] - 7s 32us/sample - loss: 0.9893 - accuracy: 0.5318 - val_loss: 0.9846 - val_accuracy: 0.5348\n",
      "Epoch 43/50\n",
      "209715/209715 [==============================] - 7s 31us/sample - loss: 0.9861 - accuracy: 0.5318 - val_loss: 0.9839 - val_accuracy: 0.5354\n",
      "Epoch 44/50\n",
      "209715/209715 [==============================] - 7s 32us/sample - loss: 0.9873 - accuracy: 0.5317 - val_loss: 0.9907 - val_accuracy: 0.5284\n",
      "Epoch 45/50\n",
      "209715/209715 [==============================] - 7s 31us/sample - loss: 0.9871 - accuracy: 0.5308 - val_loss: 0.9772 - val_accuracy: 0.5346\n",
      "Epoch 46/50\n",
      "209715/209715 [==============================] - 7s 32us/sample - loss: 0.9844 - accuracy: 0.5325 - val_loss: 0.9916 - val_accuracy: 0.5280\n",
      "Epoch 47/50\n",
      "209715/209715 [==============================] - 7s 32us/sample - loss: 0.9873 - accuracy: 0.5308 - val_loss: 0.9774 - val_accuracy: 0.5352\n",
      "Epoch 48/50\n",
      "209715/209715 [==============================] - 7s 32us/sample - loss: 0.9870 - accuracy: 0.5324 - val_loss: 1.0082 - val_accuracy: 0.5198\n",
      "Epoch 49/50\n",
      "209715/209715 [==============================] - 7s 32us/sample - loss: 0.9851 - accuracy: 0.5330 - val_loss: 0.9945 - val_accuracy: 0.5273\n",
      "Epoch 50/50\n",
      "209715/209715 [==============================] - 7s 31us/sample - loss: 0.9847 - accuracy: 0.5327 - val_loss: 0.9836 - val_accuracy: 0.5331\n"
     ]
    }
   ],
   "source": [
    "from tensorflow.keras.models import Sequential # 케라스의 Sequential()을 임포트\n",
    "from tensorflow.keras.layers import Dense # 케라스의 Dense()를 임포트\n",
    "from tensorflow.keras import optimizers # 케라스의 옵티마이저를 임포트\n",
    "\n",
    "model=Sequential()\n",
    "model.add(Dense(24, input_shape=(2,),activation='relu'))\n",
    "model.add(Dense(48, activation='relu'))\n",
    "model.add(Dense(64, activation='relu'))\n",
    "model.add(Dense(128, activation='relu'))\n",
    "model.add(Dense(128, activation='relu'))\n",
    "model.add(Dense(64, activation='relu'))\n",
    "model.add(Dense(48, activation='relu'))\n",
    "model.add(Dense(24, activation='relu'))\n",
    "model.add(Dense(4, activation='softmax'))\n",
    "\n",
    "model.compile(loss='sparse_categorical_crossentropy',\n",
    "             optimizer='Adam',\n",
    "             metrics=['accuracy'])\n",
    "\n",
    "model.summary()\n",
    "\n",
    "history=model.fit(X_train,y_train, batch_size=200, epochs=50, validation_data=(X_test, y_test))"
   ]
  },
  {
   "cell_type": "code",
   "execution_count": 45,
   "metadata": {},
   "outputs": [
    {
     "data": {
      "image/png": "[encoded data removed]",
      "text/plain": [
       "<Figure size 864x576 with 1 Axes>"
      ]
     },
     "metadata": {
      "needs_background": "light"
     },
     "output_type": "display_data"
    }
   ],
   "source": [
    "import matplotlib.pyplot as plt\n",
    "%matplotlib inline\n",
    "\n",
    "\n",
    "plt.figure(figsize=(12,8))\n",
    "plt.plot(history.history['loss'])\n",
    "plt.plot(history.history['val_loss'])\n",
    "plt.plot(history.history['accuracy'])\n",
    "plt.plot(history.history['val_accuracy'])\n",
    "plt.legend(['loss','val_loss', 'acc','val_acc'])\n",
    "plt.grid()\n",
    "plt.show()"
   ]
  },
  {
   "cell_type": "code",
   "execution_count": 46,
   "metadata": {},
   "outputs": [
    {
     "data": {
      "image/png": "[encoded data removed]",
      "text/plain": [
       "<Figure size 432x288 with 1 Axes>"
      ]
     },
     "metadata": {
      "needs_background": "light"
     },
     "output_type": "display_data"
    }
   ],
   "source": [
    "plt.clf()\n",
    "\n",
    "loss = history.history['loss']\n",
    "val_loss = history.history['val_loss']\n",
    "\n",
    "epochs = range(1, len(loss) + 1)\n",
    "\n",
    "acc = history.history['accuracy']\n",
    "val_acc = history.history['val_accuracy']\n",
    "\n",
    "plt.plot(epochs, acc, 'bo', label='Training acc')\n",
    "plt.plot(epochs, val_acc, 'b', label='Validation acc')\n",
    "plt.title('Training and validation accuracy')\n",
    "plt.xlabel('Epochs')\n",
    "plt.ylabel('Accuracy')\n",
    "plt.legend()\n",
    "\n",
    "plt.show()"
   ]
  },
  {
   "cell_type": "code",
   "execution_count": null,
   "metadata": {},
   "outputs": [],
   "source": []
  }
 ],
 "metadata": {
  "kernelspec": {
   "display_name": "Python 3",
   "language": "python",
   "name": "python3"
  },
  "language_info": {
   "codemirror_mode": {
    "name": "ipython",
    "version": 3
   },
   "file_extension": ".py",
   "mimetype": "text/x-python",
   "name": "python",
   "nbconvert_exporter": "python",
   "pygments_lexer": "ipython3",
   "version": "3.7.0"
  }
 },
 "nbformat": 4,
 "nbformat_minor": 2
}
